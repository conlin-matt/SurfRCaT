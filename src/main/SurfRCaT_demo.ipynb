{
 "cells": [
  {
   "cell_type": "markdown",
   "id": "d71f427e",
   "metadata": {},
   "source": [
    "## Setup ##"
   ]
  },
  {
   "cell_type": "code",
   "execution_count": null,
   "id": "75572a15",
   "metadata": {},
   "outputs": [],
   "source": [
    "# Import modules #\n",
    "import copy\n",
    "import cv2\n",
    "import ftplib\n",
    "\n",
    "import matplotlib\n",
    "matplotlib.use('TkAgg')\n",
    "import matplotlib.pyplot as plt\n",
    "\n",
    "import numpy as np\n",
    "import os\n",
    "import pickle\n",
    "import pptk\n",
    "import SurfRCaT\n",
    "import time\n",
    "\n",
    "# Create a working directory #\n",
    "pth = os.path.realpath('../../../')"
   ]
  },
  {
   "cell_type": "markdown",
   "id": "b54de69e",
   "metadata": {},
   "source": [
    "## Establish the video to use for the calibration and extract stills ##"
   ]
  },
  {
   "cell_type": "code",
   "execution_count": null,
   "id": "845f9dd3",
   "metadata": {},
   "outputs": [],
   "source": [
    "# Establish the video file #\n",
    "vid = os.path.realpath(pth+os.sep+'JupiterTutorial1.mp4')\n",
    "\n",
    "# Extract video properties\n",
    "cap = cv2.VideoCapture(vid)\n",
    "numFrames = int(cap.get(7))\n",
    "fps = cap.get(5)\n",
    "vidLen = int(numFrames/fps)\n",
    "\n",
    "# Establish desired extraction parameters #\n",
    "secondsPerFrame = 10\n",
    "rate = None # Don't need if using a secondsPerFrame #\n",
    "\n",
    "# Run the frame extraction #\n",
    "SurfRCaT.getImagery_GetStills(vid,secondsPerFrame,rate,vidLen,fps,pth+os.sep)\n",
    "\n",
    "## A /_frames directory now exists with extracted frames ##"
   ]
  },
  {
   "cell_type": "markdown",
   "id": "453b48b8",
   "metadata": {},
   "source": [
    "## Esatblish the extracted frame to use in the calibration ##"
   ]
  },
  {
   "cell_type": "code",
   "execution_count": null,
   "id": "63e3d9d3",
   "metadata": {},
   "outputs": [],
   "source": [
    "frameNum = 20 # Can choose any of the extracted frames #\n",
    "img = cv2.imread(os.path.realpath(pth+os.sep+'_frames'+os.sep+'frame'+str(frameNum)+'.png'))\n",
    "os.mkdir(pth+os.sep+'_products')\n",
    "cv2.imwrite(pth+os.sep+'_products/calibrationImage.png',img)\n",
    "\n",
    "## A /_products directory now exists with the chosen calibration image ##"
   ]
  },
  {
   "cell_type": "markdown",
   "id": "5b57827a",
   "metadata": {},
   "source": [
    "## Establish user input camera parameters  ##"
   ]
  },
  {
   "cell_type": "code",
   "execution_count": null,
   "id": "09c68264",
   "metadata": {},
   "outputs": [],
   "source": [
    "# Required user inputs #\n",
    "# NOTE: Can get all of these from Google Earth #\n",
    "cam_lat = 26.93846\n",
    "cam_lon = -80.07054\n",
    "cam_elev = 49.5\n",
    "cam_az = 350"
   ]
  },
  {
   "cell_type": "markdown",
   "id": "8776c7fa",
   "metadata": {},
   "source": [
    "## Find a lidar dataset to use in remote-GCP extraction ##"
   ]
  },
  {
   "cell_type": "code",
   "execution_count": null,
   "id": "1cc97c55",
   "metadata": {},
   "outputs": [],
   "source": [
    "# Find NOAA lidar datasets that cover the correct state or coast #\n",
    "possibleIDs = SurfRCaT.getLidar_FindPossibleIDs(cam_lat,cam_lon)\n",
    "print(possibleIDs)"
   ]
  },
  {
   "cell_type": "code",
   "execution_count": null,
   "id": "af6a6dc1",
   "metadata": {},
   "outputs": [],
   "source": [
    "# Check all possibleIDs to find datasets that cover the camera location - appropIDs #\n",
    "\n",
    "# NOAA FTP login #\n",
    "ftp = ftplib.FTP('ftp.coast.noaa.gov',timeout=1000000)\n",
    "ftp.login('anonymous','anonymous')\n",
    "\n",
    "# Get a list of all lidar directories in the NOAA FTP. #\n",
    "ftp.cwd('/pub/DigitalCoast')\n",
    "dirs = [i for i in ftp.nlst() if 'lidar' in i]\n",
    "alldirs = []\n",
    "for ii in dirs:\n",
    "    ftp.cwd(ii)\n",
    "    alldirs.append([ii+'/'+i for i in ftp.nlst() if 'geoid' in i])\n",
    "    ftp.cwd('../')  \n",
    "\n",
    "# Check each of the possibleIDs to see if it covers the location of the camera #\n",
    "appropIDs = list()\n",
    "i = 0\n",
    "for ID in possibleIDs:\n",
    "    i = i+1\n",
    "    perDone = i/len(possibleIDs)\n",
    "    print(str(perDone*100)+'% done')\n",
    "\n",
    "    check = SurfRCaT.getLidar_TryID(ftp,alldirs,ID,cam_lat,cam_lon)\n",
    "    ftp.cwd('/pub/DigitalCoast')\n",
    "\n",
    "    if check:\n",
    "        if len(check)>0:       \n",
    "            appropIDs.append(ID)\n",
    "            print(appropIDs)"
   ]
  },
  {
   "cell_type": "code",
   "execution_count": null,
   "id": "bb758ec4",
   "metadata": {},
   "outputs": [],
   "source": [
    "# Establish the ID of the dataset to use #\n",
    "useID = 6330"
   ]
  },
  {
   "cell_type": "markdown",
   "id": "1ae9cd31",
   "metadata": {},
   "source": [
    "## Download the lidar dataset ##"
   ]
  },
  {
   "cell_type": "code",
   "execution_count": null,
   "id": "5f0fc479",
   "metadata": {},
   "outputs": [],
   "source": [
    "# Get the geographic info of the dataset, contained in a shapefile #\n",
    "sf = SurfRCaT.getLidar_GetShapefile(useID)\n",
    "print(sf)"
   ]
  },
  {
   "cell_type": "code",
   "execution_count": null,
   "id": "afba2212",
   "metadata": {},
   "outputs": [],
   "source": [
    "# Calculate the view area of the camera\n",
    "poly = SurfRCaT.getLidar_CalcViewArea(cam_az,40,1000,cam_lat,cam_lon)\n",
    "print(poly)"
   ]
  },
  {
   "cell_type": "code",
   "execution_count": null,
   "id": "d008544d",
   "metadata": {},
   "outputs": [],
   "source": [
    "# Get the dataset tiles that cover the camera area #\n",
    "tilesKeep = list()\n",
    "i = 0\n",
    "for shapeNum in range(0,len(sf)):\n",
    "    out = SurfRCaT.getLidar_SearchTiles(sf,poly,shapeNum,cam_lat,cam_lon)\n",
    "    if out:\n",
    "        tilesKeep.append(out)\n",
    "    i = i+1\n",
    "    perDone = i/len(sf)\n",
    "    print(str(perDone*100)+'% done')\n",
    "print(tilesKeep)"
   ]
  },
  {
   "cell_type": "code",
   "execution_count": null,
   "id": "3f1a4e9a",
   "metadata": {},
   "outputs": [],
   "source": [
    "# Download the data or use pre-downloaded #\n",
    "#i = 0\n",
    "#lidarDat = np.empty([0,3])\n",
    "#for thisFile in tilesKeep:\n",
    "#\n",
    "#    lidarXYZsmall = SurfRCaT.getLidar_Download(thisFile,useID,cam_lat,cam_lon)\n",
    "#\n",
    "#    lidarDat = np.append(lidarDat,lidarXYZsmall,axis=0)\n",
    "#\n",
    "#    i = i+1\n",
    "#    perDone = i/len(tilesKeep)\n",
    "#    print(str(perDone*100)+'% done')\n",
    "\n",
    "\n",
    "# Use pre-downloaded lidar data #    \n",
    "with open(pth+os.sep+'demoLidarFile.pkl','rb') as f:\n",
    "    lidarDat = pickle.load(f)"
   ]
  },
  {
   "cell_type": "code",
   "execution_count": null,
   "id": "1074f4f4",
   "metadata": {},
   "outputs": [],
   "source": [
    "# Create a point cloud with local coordinates relative to the camera location #\n",
    "pc = SurfRCaT.getLidar_CreatePC(lidarDat,cam_lat,cam_lon)\n",
    "print(pc)"
   ]
  },
  {
   "cell_type": "markdown",
   "id": "7a4f3f1b",
   "metadata": {},
   "source": [
    "## Pick GCPs in the image ##"
   ]
  },
  {
   "cell_type": "code",
   "execution_count": null,
   "id": "4cc7e9cf",
   "metadata": {},
   "outputs": [],
   "source": [
    "im = plt.imread(pth+os.sep+'_products/calibrationImage.png')\n",
    "plt.imshow(im)\n",
    "GCPs_im = plt.ginput(4)\n",
    "GCPs_im = np.array(np.array(GCPs_im))\n",
    "print(GCPs_im)"
   ]
  },
  {
   "cell_type": "markdown",
   "id": "b4cec030",
   "metadata": {},
   "source": [
    "## Pick GCPs in the lidar ##"
   ]
  },
  {
   "cell_type": "code",
   "execution_count": null,
   "id": "74ca28dc",
   "metadata": {},
   "outputs": [],
   "source": [
    "# Launch the point cloud viewer \n",
    "v = pptk.viewer(pc,pc.iloc[:,2])\n",
    "v.set(point_size=0.1,theta=-25,phi=0,lookat=[0,0,20],color_map_scale=[-1,10],r=0)"
   ]
  },
  {
   "cell_type": "code",
   "execution_count": null,
   "id": "a13f26b3",
   "metadata": {},
   "outputs": [],
   "source": [
    "# Do the GCP picking #\n",
    "iGCPs_lidar = np.empty([0,1])\n",
    "while 1<2: # Continuously test to see if viewer window is open #\n",
    "    try:\n",
    "        test = v.get('curr_attribute_id')\n",
    "        a = v.get('selected')\n",
    "        if len(a)>0:\n",
    "            a = int(a)\n",
    "            iGCPs_lidar = np.vstack([iGCPs_lidar,a])\n",
    "        else:\n",
    "            a = 0\n",
    "        del a\n",
    "        time.sleep(2)\n",
    "    except ConnectionRefusedError:\n",
    "        break\n",
    "iGCPs_lidar = np.unique(iGCPs_lidar).astype(int)\n",
    "print(iGCPs_lidar)"
   ]
  },
  {
   "cell_type": "code",
   "execution_count": null,
   "id": "3c08a100",
   "metadata": {},
   "outputs": [],
   "source": [
    "# Get the GCP coordinates #\n",
    "GCPs_lidar = np.empty([0,3])\n",
    "for i in sorted(iGCPs_lidar):\n",
    "    GCPs_lidar = np.vstack((GCPs_lidar,pc.iloc[i,:]))\n",
    "iss = np.argsort(GCPs_lidar[:,2])\n",
    "GCPs_lidar = np.flipud(GCPs_lidar[iss,:])\n",
    "print(GCPs_lidar)"
   ]
  },
  {
   "cell_type": "markdown",
   "id": "d0611d36",
   "metadata": {},
   "source": [
    "## Perform the calibration ##"
   ]
  },
  {
   "cell_type": "code",
   "execution_count": null,
   "id": "8f856482",
   "metadata": {},
   "outputs": [],
   "source": [
    "# Estimate instrinsic parmeters from the image characteristics #\n",
    "cam_f,cam_x0,cam_y0 = SurfRCaT.calibrate_GetInitialApprox_IOPs(cv2.imread(pth+os.sep+'_products/calibrationImage.png'))"
   ]
  },
  {
   "cell_type": "code",
   "execution_count": null,
   "id": "da831107",
   "metadata": {},
   "outputs": [],
   "source": [
    "# Convert rotation systems from azimuth, tilt, swing to omega, phi, kappa #\n",
    "# Note the following assumptions: tilt = 80, swing = 180 #\n",
    "cam_omega,cam_phi,cam_kappa = SurfRCaT.calibrate_GetInitialApprox_ats2opk(cam_az,80,180)"
   ]
  },
  {
   "cell_type": "code",
   "execution_count": null,
   "id": "dfc70f66",
   "metadata": {},
   "outputs": [],
   "source": [
    "# Perform the calibration in a two-step optimization #\n",
    "initApprox = np.array([cam_omega,cam_phi,cam_kappa,0,0,cam_elev,cam_f,cam_x0,cam_y0])\n",
    "freeVec1 = np.array([0,0,0,1,1,1,0,0,0])\n",
    "freeVec2 = np.array([1,1,1,0,0,0,1,1,1])\n",
    "calibVals1,se1 = SurfRCaT.calibrate_PerformCalibration(initApprox,freeVec1,GCPs_im,GCPs_lidar)\n",
    "updatedApprox = copy.copy(calibVals1)\n",
    "calibVals2,se2 = SurfRCaT.calibrate_PerformCalibration(updatedApprox,freeVec2,GCPs_im,GCPs_lidar)"
   ]
  },
  {
   "cell_type": "code",
   "execution_count": null,
   "id": "a5d4417a",
   "metadata": {},
   "outputs": [],
   "source": [
    "# Check the calibration by reprojecting the GCPs onto the image #\n",
    "u_reproj,v_reproj = SurfRCaT.calibrate_CalcReprojPos(GCPs_lidar,calibVals2)\n",
    "\n",
    "fig,ax = plt.subplots(1)\n",
    "ax.imshow(im)\n",
    "cols = ['r','g','b','c']\n",
    "for i in range(len(GCPs_im)):\n",
    "    ax.plot(GCPs_im[i,0],GCPs_im[i,1],'o',markeredgecolor=cols[i],markerfacecolor='w')\n",
    "    ax.plot(u_reproj[i],v_reproj[i],'x',color=cols[i])\n",
    "fig.show()"
   ]
  },
  {
   "cell_type": "markdown",
   "id": "d49d7d8a",
   "metadata": {},
   "source": [
    "## Rectify the image ##"
   ]
  },
  {
   "cell_type": "code",
   "execution_count": null,
   "id": "f42a36b1",
   "metadata": {},
   "outputs": [],
   "source": [
    "# Establsih the real-world rectification grid #\n",
    "xmin = -200\n",
    "xmax = 200\n",
    "dx = 0.5\n",
    "ymin = 250\n",
    "ymax = 900\n",
    "dy = 0.5\n",
    "z = 0.1 # Tide level, can get from NOAA #\n",
    "grid = [xmin,xmax,dx,ymin,ymax,dy,z]"
   ]
  },
  {
   "cell_type": "code",
   "execution_count": null,
   "id": "4b05f0da",
   "metadata": {},
   "outputs": [],
   "source": [
    "# Perform the rectification #\n",
    "im_rectif,extents = SurfRCaT.rectify_RectifyImage(calibVals2,im,grid)"
   ]
  },
  {
   "cell_type": "code",
   "execution_count": null,
   "id": "a7851698",
   "metadata": {},
   "outputs": [],
   "source": [
    "# Plot the rectified image #\n",
    "fig,ax = plt.subplots(1)\n",
    "ax.imshow(im_rectif,extent=extents,interpolation='bilinear')\n",
    "ax.set_xlabel('Local x (m)')\n",
    "ax.set_ylabel('Local y (m)')\n",
    "ax.axis('equal')\n",
    "fig.show()"
   ]
  },
  {
   "cell_type": "code",
   "execution_count": null,
   "id": "4277322a",
   "metadata": {},
   "outputs": [],
   "source": []
  }
 ],
 "metadata": {
  "kernelspec": {
   "display_name": "Python 3",
   "language": "python",
   "name": "python3"
  },
  "language_info": {
   "codemirror_mode": {
    "name": "ipython",
    "version": 3
   },
   "file_extension": ".py",
   "mimetype": "text/x-python",
   "name": "python",
   "nbconvert_exporter": "python",
   "pygments_lexer": "ipython3",
   "version": "3.6.15"
  }
 },
 "nbformat": 4,
 "nbformat_minor": 5
}
